{
 "cells": [
  {
   "cell_type": "code",
   "execution_count": 3,
   "metadata": {},
   "outputs": [],
   "source": [
    "def describe(x):\n",
    "    print(\"Type:{}\".format(x.type()))\n",
    "    print(\"Shape/size: {}\".format(x.shape))\n",
    "    print(\"Values: \\n{}\".format(x))\n",
    "    "
   ]
  },
  {
   "cell_type": "code",
   "execution_count": 3,
   "metadata": {},
   "outputs": [
    {
     "name": "stdout",
     "output_type": "stream",
     "text": [
      "Type:torch.FloatTensor\n",
      "Shape/size: torch.Size([2, 3])\n",
      "Values: \n",
      "tensor([[1.3733e-14, 6.4069e+02, 4.3066e+21],\n",
      "        [1.1824e+22, 4.3066e+21, 6.3828e+28]])\n"
     ]
    }
   ],
   "source": [
    "import torch\n",
    "describe(torch.Tensor(2,3)) #create a tensor with 2 rows, 3 columns"
   ]
  },
  {
   "cell_type": "code",
   "execution_count": 4,
   "metadata": {},
   "outputs": [
    {
     "name": "stdout",
     "output_type": "stream",
     "text": [
      "Type:torch.FloatTensor\n",
      "Shape/size: torch.Size([2, 3])\n",
      "Values: \n",
      "tensor([[0.1144, 0.8529, 0.6214],\n",
      "        [0.3426, 0.5373, 0.7541]])\n",
      "Type:torch.FloatTensor\n",
      "Shape/size: torch.Size([2, 3])\n",
      "Values: \n",
      "tensor([[0.3745, 0.5927, 0.4650],\n",
      "        [0.0279, 0.8460, 0.8849]])\n"
     ]
    }
   ],
   "source": [
    "describe(torch.rand(2,3))#uniform random\n",
    "describe(torch.rand(2,3))#random normal"
   ]
  },
  {
   "cell_type": "code",
   "execution_count": 5,
   "metadata": {},
   "outputs": [
    {
     "name": "stdout",
     "output_type": "stream",
     "text": [
      "Type:torch.FloatTensor\n",
      "Shape/size: torch.Size([2, 3])\n",
      "Values: \n",
      "tensor([[0., 0., 0.],\n",
      "        [0., 0., 0.]])\n",
      "Type:torch.FloatTensor\n",
      "Shape/size: torch.Size([2, 3])\n",
      "Values: \n",
      "tensor([[1., 1., 1.],\n",
      "        [1., 1., 1.]])\n"
     ]
    }
   ],
   "source": [
    "x = torch.zeros(2,3)\n",
    "describe(x)\n",
    "x.fill_(1) #an in-place operation for fill it with specific values\n",
    "describe(x)"
   ]
  },
  {
   "cell_type": "code",
   "execution_count": 6,
   "metadata": {},
   "outputs": [
    {
     "name": "stdout",
     "output_type": "stream",
     "text": [
      "Type:torch.FloatTensor\n",
      "Shape/size: torch.Size([2, 3])\n",
      "Values: \n",
      "tensor([[1., 2., 3.],\n",
      "        [2., 3., 4.]])\n"
     ]
    }
   ],
   "source": [
    "x = torch.Tensor([[1,2,3],\n",
    "                [2,3,4]])\n",
    "describe(x)#create a tensor from a list"
   ]
  },
  {
   "cell_type": "code",
   "execution_count": 7,
   "metadata": {},
   "outputs": [
    {
     "name": "stdout",
     "output_type": "stream",
     "text": [
      "Type:torch.DoubleTensor\n",
      "Shape/size: torch.Size([2, 3])\n",
      "Values: \n",
      "tensor([[0.9928, 0.7848, 0.5853],\n",
      "        [0.4930, 0.2948, 0.1953]], dtype=torch.float64)\n"
     ]
    }
   ],
   "source": [
    "\"\"\"\n",
    "create a tensor from numpy, type: double\n",
    "\"\"\"\n",
    "import numpy as np\n",
    "npy = np.random.rand(2,3)\n",
    "describe(torch.from_numpy(npy))"
   ]
  },
  {
   "cell_type": "code",
   "execution_count": 8,
   "metadata": {},
   "outputs": [
    {
     "name": "stdout",
     "output_type": "stream",
     "text": [
      "Type:torch.LongTensor\n",
      "Shape/size: torch.Size([2, 3])\n",
      "Values: \n",
      "tensor([[1, 2, 3],\n",
      "        [2, 3, 4]])\n"
     ]
    }
   ],
   "source": [
    "x = x.long() #change tensor type\n",
    "describe(x)"
   ]
  },
  {
   "cell_type": "code",
   "execution_count": 10,
   "metadata": {},
   "outputs": [
    {
     "name": "stdout",
     "output_type": "stream",
     "text": [
      "Type:torch.LongTensor\n",
      "Shape/size: torch.Size([2, 3])\n",
      "Values: \n",
      "tensor([[2, 4, 6],\n",
      "        [4, 6, 8]])\n",
      "Type:torch.LongTensor\n",
      "Shape/size: torch.Size([2, 3])\n",
      "Values: \n",
      "tensor([[2, 4, 6],\n",
      "        [4, 6, 8]])\n"
     ]
    }
   ],
   "source": [
    "\"\"\"\n",
    "tensor operation\n",
    "\"\"\"\n",
    "describe(torch.add(x,x))\n",
    "describe(x + x)"
   ]
  },
  {
   "cell_type": "code",
   "execution_count": 15,
   "metadata": {},
   "outputs": [
    {
     "name": "stdout",
     "output_type": "stream",
     "text": [
      "Type:torch.LongTensor\n",
      "Shape/size: torch.Size([6])\n",
      "Values: \n",
      "tensor([0, 1, 2, 3, 4, 5])\n",
      "Type:torch.LongTensor\n",
      "Shape/size: torch.Size([2, 3])\n",
      "Values: \n",
      "tensor([[0, 1, 2],\n",
      "        [3, 4, 5]])\n",
      "Type:torch.LongTensor\n",
      "Shape/size: torch.Size([3])\n",
      "Values: \n",
      "tensor([3, 5, 7])\n",
      "Type:torch.LongTensor\n",
      "Shape/size: torch.Size([2])\n",
      "Values: \n",
      "tensor([ 3, 12])\n",
      "Type:torch.LongTensor\n",
      "Shape/size: torch.Size([3, 2])\n",
      "Values: \n",
      "tensor([[0, 3],\n",
      "        [1, 4],\n",
      "        [2, 5]])\n"
     ]
    }
   ],
   "source": [
    "\"\"\"\n",
    "dimension base tensor operation\n",
    "\"\"\"\n",
    "x = torch.arange(6) #returns a 1-d tensor\n",
    "describe(x)\n",
    "x = x.view(2,3) #like reshape\n",
    "describe(x)\n",
    "describe(torch.sum(x, dim = 0)) #return 1-d row-shape tensor, every row with same column add together\n",
    "describe(torch.sum(x, dim = 1))\n",
    "describe(torch.transpose(x, 0, 1))#The given dimensions dim0 and dim1 are swapped."
   ]
  },
  {
   "cell_type": "code",
   "execution_count": 17,
   "metadata": {},
   "outputs": [
    {
     "name": "stdout",
     "output_type": "stream",
     "text": [
      "Type:torch.LongTensor\n",
      "Shape/size: torch.Size([2, 3])\n",
      "Values: \n",
      "tensor([[0, 1, 2],\n",
      "        [3, 4, 5]])\n",
      "Type:torch.LongTensor\n",
      "Shape/size: torch.Size([1, 2])\n",
      "Values: \n",
      "tensor([[0, 1]])\n",
      "Type:torch.LongTensor\n",
      "Shape/size: torch.Size([])\n",
      "Values: \n",
      "5\n"
     ]
    }
   ],
   "source": [
    "x = torch.arange(6).view(2,3)\n",
    "describe(x)\n",
    "describe(x[:1,:2]) #slice \n",
    "describe(x[1,2])#index"
   ]
  },
  {
   "cell_type": "code",
   "execution_count": 5,
   "metadata": {},
   "outputs": [
    {
     "name": "stdout",
     "output_type": "stream",
     "text": [
      "Type:torch.LongTensor\n",
      "Shape/size: torch.Size([4, 3])\n",
      "Values: \n",
      "tensor([[0, 1, 2],\n",
      "        [3, 4, 5],\n",
      "        [0, 1, 2],\n",
      "        [3, 4, 5]])\n",
      "Type:torch.LongTensor\n",
      "Shape/size: torch.Size([2, 6])\n",
      "Values: \n",
      "tensor([[0, 1, 2, 0, 1, 2],\n",
      "        [3, 4, 5, 3, 4, 5]])\n",
      "Type:torch.LongTensor\n",
      "Shape/size: torch.Size([2, 2, 3])\n",
      "Values: \n",
      "tensor([[[0, 1, 2],\n",
      "         [3, 4, 5]],\n",
      "\n",
      "        [[0, 1, 2],\n",
      "         [3, 4, 5]]])\n"
     ]
    }
   ],
   "source": [
    "\"\"\"\n",
    "concatenating tensors\n",
    "\"\"\"\n",
    "import torch\n",
    "x = torch.arange(6).view(2,3)\n",
    "describe(torch.cat([x,x], dim = 0)) #concatenate 2 matrix in dimension 0\n",
    "describe(torch.cat([x,x], dim = 1))#dimension 1\n",
    "describe(torch.stack([x,x])) #stack 2 matrixs"
   ]
  },
  {
   "cell_type": "code",
   "execution_count": 10,
   "metadata": {},
   "outputs": [
    {
     "name": "stdout",
     "output_type": "stream",
     "text": [
      "Type:torch.FloatTensor\n",
      "Shape/size: torch.Size([2, 3])\n",
      "Values: \n",
      "tensor([[0., 1., 2.],\n",
      "        [3., 4., 5.]])\n",
      "Type:torch.FloatTensor\n",
      "Shape/size: torch.Size([3, 2])\n",
      "Values: \n",
      "tensor([[1., 2.],\n",
      "        [1., 2.],\n",
      "        [1., 2.]])\n",
      "Type:torch.FloatTensor\n",
      "Shape/size: torch.Size([2, 2])\n",
      "Values: \n",
      "tensor([[ 3.,  6.],\n",
      "        [12., 24.]])\n"
     ]
    }
   ],
   "source": [
    "\"\"\"\n",
    "linear multiplication\n",
    "\"\"\"\n",
    "x1 = torch.arange(6).view(2, 3)\n",
    "x1 = x1.float()\n",
    "describe(x1)\n",
    "x2 = torch.ones(3,2)\n",
    "x2[:, 1] += 1\n",
    "describe(x2)\n",
    "describe(torch.mm(x1, x2))"
   ]
  },
  {
   "cell_type": "code",
   "execution_count": 16,
   "metadata": {},
   "outputs": [
    {
     "name": "stdout",
     "output_type": "stream",
     "text": [
      "Type:torch.FloatTensor\n",
      "Shape/size: torch.Size([2, 2])\n",
      "Values: \n",
      "tensor([[1., 1.],\n",
      "        [1., 1.]], requires_grad=True)\n",
      "True\n",
      "Type:torch.FloatTensor\n",
      "Shape/size: torch.Size([2, 2])\n",
      "Values: \n",
      "tensor([[21., 21.],\n",
      "        [21., 21.]], grad_fn=<AddBackward0>)\n",
      "True\n",
      "Type:torch.FloatTensor\n",
      "Shape/size: torch.Size([])\n",
      "Values: \n",
      "21.0\n",
      "False\n"
     ]
    }
   ],
   "source": [
    "\"\"\"\n",
    "gradient bookkeeping\n",
    "\"\"\"\n",
    "x = torch.ones(2, 2, requires_grad = True)\n",
    "describe(x)\n",
    "print(x.grad is None)\n",
    "y = (x + 2) * (x + 5) + 3\n",
    "describe(y)\n",
    "print(x.grad is None)\n",
    "z = y.mean()\n",
    "describe(z)\n",
    "z.backward()\n",
    "print(x.grad is None)"
   ]
  },
  {
   "cell_type": "code",
   "execution_count": 18,
   "metadata": {},
   "outputs": [
    {
     "name": "stdout",
     "output_type": "stream",
     "text": [
      "False\n",
      "cpu\n"
     ]
    }
   ],
   "source": [
    "\"\"\"\n",
    "check if nvida can use \n",
    "\"\"\"\n",
    "\n",
    "print(torch.cuda.is_available())\n",
    "device = torch.device(\"cuda\" if torch.cuda.is_available() else \"cpu\")\n",
    "print (device)"
   ]
  },
  {
   "cell_type": "code",
   "execution_count": 9,
   "metadata": {},
   "outputs": [
    {
     "name": "stdout",
     "output_type": "stream",
     "text": [
      "Type:torch.FloatTensor\n",
      "Shape/size: torch.Size([1, 3, 3])\n",
      "Values: \n",
      "tensor([[[0.2249, 0.6907, 0.1952],\n",
      "         [0.2409, 0.0862, 0.4369],\n",
      "         [0.4529, 0.1339, 0.7901]]])\n",
      "Type:torch.FloatTensor\n",
      "Shape/size: torch.Size([3, 3])\n",
      "Values: \n",
      "tensor([[0.2249, 0.6907, 0.1952],\n",
      "        [0.2409, 0.0862, 0.4369],\n",
      "        [0.4529, 0.1339, 0.7901]])\n",
      "Type:torch.FloatTensor\n",
      "Shape/size: torch.Size([5, 3])\n",
      "Values: \n",
      "tensor([[5.3505, 3.9662, 6.8456],\n",
      "        [4.7340, 5.2264, 3.6943],\n",
      "        [6.8892, 4.2683, 3.8658],\n",
      "        [6.1655, 4.9989, 6.1149],\n",
      "        [3.2508, 5.7671, 5.3382]])\n"
     ]
    }
   ],
   "source": [
    "\"\"\"\n",
    "Create a 2D tensor and then add a dimension of size 1 inserted at dimension 0\n",
    "remove dimension2\n",
    "\"\"\"\n",
    "import torch\n",
    "a = torch.rand(3,3)\n",
    "b = torch.unsqueeze(a, 0)\n",
    "describe(b)\n",
    "b = torch.squeeze(b)\n",
    "describe(b)\n",
    "\n",
    "\"\"\"\n",
    "Create a random tensor of shape 5x3 in the interval [3, 7)\n",
    "\"\"\"\n",
    "c = 3 + torch.rand(5,3)* 4\n",
    "describe(c)\n",
    "\n"
   ]
  },
  {
   "cell_type": "code",
   "execution_count": 52,
   "metadata": {},
   "outputs": [
    {
     "data": {
      "text/plain": [
       "tensor([[ 0.6223, -1.7477, -0.9200],\n",
       "        [-0.1201,  0.5369,  1.6587],\n",
       "        [-1.0105, -0.6428,  0.2986]])"
      ]
     },
     "execution_count": 52,
     "metadata": {},
     "output_type": "execute_result"
    }
   ],
   "source": [
    "\"\"\"\n",
    "Create a tensor with values from a normal distribution (mean=0, std=1).\n",
    "\"\"\"\n",
    "a = torch.rand(3, 3) \n",
    "a.normal_()"
   ]
  },
  {
   "cell_type": "code",
   "execution_count": 18,
   "metadata": {},
   "outputs": [
    {
     "name": "stdout",
     "output_type": "stream",
     "text": [
      "5 4\n"
     ]
    }
   ],
   "source": [
    "\"\"\"\n",
    "Return the batch matrix-matrix product of two 3-dimensional matrices (a=torch.rand(3,4,5), b=torch.rand(3,5,4)).\n",
    "\"\"\"\n",
    "import torch\n",
    "a = torch.rand(3,4,5)\n",
    "b = torch.rand(3,5,4)\n",
    "torch.bmm(a,b)#shape:3,4,4\n",
    "\n",
    "c = torch.rand(3,4,5)\n",
    "d = torch.rand(5,4)\n",
    "torch.bmm(c, torch.unsqueeze(d,0).expand(c.size(0), *d.size()))\n",
    "print(*d.size())"
   ]
  },
  {
   "cell_type": "code",
   "execution_count": 2,
   "metadata": {},
   "outputs": [
    {
     "name": "stdout",
     "output_type": "stream",
     "text": [
      "['mary', ',', 'i', 'love', 'you', 'in', '1988', '.']\n",
      "mary\t\t0\tmary\tFalse\tFalse\txxxx\tNOUN\tNN\n",
      ",\t\t4\t,\tTrue\tFalse\t,\tPUNCT\t,\n",
      "i\t\t6\ti\tFalse\tFalse\tx\tPRON\tPRP\n",
      "love\t\t8\tlove\tFalse\tFalse\txxxx\tVERB\tVBP\n",
      "you\t\t13\t-PRON-\tFalse\tFalse\txxx\tPRON\tPRP\n",
      "in\t\t17\tin\tFalse\tFalse\txx\tADP\tIN\n",
      "1988\t\t20\t1988\tFalse\tFalse\tdddd\tNUM\tCD\n",
      ".\t\t24\t.\tTrue\tFalse\t.\tPUNCT\t.\n",
      "1988 DATE\n"
     ]
    },
    {
     "data": {
      "text/html": [
       "<div class=\"entities\" style=\"line-height: 2.5; direction: ltr\">mary, i love you in \n",
       "<mark class=\"entity\" style=\"background: #bfe1d9; padding: 0.45em 0.6em; margin: 0 0.25em; line-height: 1; border-radius: 0.35em; box-decoration-break: clone; -webkit-box-decoration-break: clone\">\n",
       "    1988\n",
       "    <span style=\"font-size: 0.8em; font-weight: bold; line-height: 1; border-radius: 0.35em; text-transform: uppercase; vertical-align: middle; margin-left: 0.5rem\">DATE</span>\n",
       "</mark>\n",
       ". </div>"
      ],
      "text/plain": [
       "<IPython.core.display.HTML object>"
      ]
     },
     "metadata": {},
     "output_type": "display_data"
    },
    {
     "name": "stdout",
     "output_type": "stream",
     "text": [
      "mary, i love you in 1988.\n",
      "mary(NN) <--advmod-- love(VBP)\n",
      ",(,) <--punct-- love(VBP)\n",
      "i(PRP) <--nsubj-- love(VBP)\n",
      "love(VBP) <--ROOT-- love(VBP)\n",
      "you(PRP) <--dobj-- love(VBP)\n",
      "in(IN) <--prep-- love(VBP)\n",
      "1988(CD) <--pobj-- in(IN)\n",
      ".(.) <--punct-- love(VBP)\n"
     ]
    },
    {
     "data": {
      "text/html": [
       "<svg xmlns=\"http://www.w3.org/2000/svg\" xmlns:xlink=\"http://www.w3.org/1999/xlink\" xml:lang=\"en\" id=\"fa053f8fd4304742bd48e6badc84cc56-0\" class=\"displacy\" width=\"590\" height=\"227.0\" direction=\"ltr\" style=\"max-width: none; height: 227.0px; color: #000000; background: #ffffff; font-family: Arial; direction: ltr\">\n",
       "<text class=\"displacy-token\" fill=\"currentColor\" text-anchor=\"middle\" y=\"137.0\">\n",
       "    <tspan class=\"displacy-word\" fill=\"currentColor\" x=\"50\">mary,</tspan>\n",
       "    <tspan class=\"displacy-tag\" dy=\"2em\" fill=\"currentColor\" x=\"50\">NOUN</tspan>\n",
       "</text>\n",
       "\n",
       "<text class=\"displacy-token\" fill=\"currentColor\" text-anchor=\"middle\" y=\"137.0\">\n",
       "    <tspan class=\"displacy-word\" fill=\"currentColor\" x=\"140\">i</tspan>\n",
       "    <tspan class=\"displacy-tag\" dy=\"2em\" fill=\"currentColor\" x=\"140\">PRON</tspan>\n",
       "</text>\n",
       "\n",
       "<text class=\"displacy-token\" fill=\"currentColor\" text-anchor=\"middle\" y=\"137.0\">\n",
       "    <tspan class=\"displacy-word\" fill=\"currentColor\" x=\"230\">love</tspan>\n",
       "    <tspan class=\"displacy-tag\" dy=\"2em\" fill=\"currentColor\" x=\"230\">VERB</tspan>\n",
       "</text>\n",
       "\n",
       "<text class=\"displacy-token\" fill=\"currentColor\" text-anchor=\"middle\" y=\"137.0\">\n",
       "    <tspan class=\"displacy-word\" fill=\"currentColor\" x=\"320\">you</tspan>\n",
       "    <tspan class=\"displacy-tag\" dy=\"2em\" fill=\"currentColor\" x=\"320\">PRON</tspan>\n",
       "</text>\n",
       "\n",
       "<text class=\"displacy-token\" fill=\"currentColor\" text-anchor=\"middle\" y=\"137.0\">\n",
       "    <tspan class=\"displacy-word\" fill=\"currentColor\" x=\"410\">in</tspan>\n",
       "    <tspan class=\"displacy-tag\" dy=\"2em\" fill=\"currentColor\" x=\"410\">ADP</tspan>\n",
       "</text>\n",
       "\n",
       "<text class=\"displacy-token\" fill=\"currentColor\" text-anchor=\"middle\" y=\"137.0\">\n",
       "    <tspan class=\"displacy-word\" fill=\"currentColor\" x=\"500\">1988.</tspan>\n",
       "    <tspan class=\"displacy-tag\" dy=\"2em\" fill=\"currentColor\" x=\"500\">NUM</tspan>\n",
       "</text>\n",
       "\n",
       "<g class=\"displacy-arrow\">\n",
       "    <path class=\"displacy-arc\" id=\"arrow-fa053f8fd4304742bd48e6badc84cc56-0-0\" stroke-width=\"2px\" d=\"M70,92.0 C70,2.0 230.0,2.0 230.0,92.0\" fill=\"none\" stroke=\"currentColor\"/>\n",
       "    <text dy=\"1.25em\" style=\"font-size: 0.8em; letter-spacing: 1px\">\n",
       "        <textPath xlink:href=\"#arrow-fa053f8fd4304742bd48e6badc84cc56-0-0\" class=\"displacy-label\" startOffset=\"50%\" side=\"left\" fill=\"currentColor\" text-anchor=\"middle\">advmod</textPath>\n",
       "    </text>\n",
       "    <path class=\"displacy-arrowhead\" d=\"M70,94.0 L62,82.0 78,82.0\" fill=\"currentColor\"/>\n",
       "</g>\n",
       "\n",
       "<g class=\"displacy-arrow\">\n",
       "    <path class=\"displacy-arc\" id=\"arrow-fa053f8fd4304742bd48e6badc84cc56-0-1\" stroke-width=\"2px\" d=\"M160,92.0 C160,47.0 225.0,47.0 225.0,92.0\" fill=\"none\" stroke=\"currentColor\"/>\n",
       "    <text dy=\"1.25em\" style=\"font-size: 0.8em; letter-spacing: 1px\">\n",
       "        <textPath xlink:href=\"#arrow-fa053f8fd4304742bd48e6badc84cc56-0-1\" class=\"displacy-label\" startOffset=\"50%\" side=\"left\" fill=\"currentColor\" text-anchor=\"middle\">nsubj</textPath>\n",
       "    </text>\n",
       "    <path class=\"displacy-arrowhead\" d=\"M160,94.0 L152,82.0 168,82.0\" fill=\"currentColor\"/>\n",
       "</g>\n",
       "\n",
       "<g class=\"displacy-arrow\">\n",
       "    <path class=\"displacy-arc\" id=\"arrow-fa053f8fd4304742bd48e6badc84cc56-0-2\" stroke-width=\"2px\" d=\"M250,92.0 C250,47.0 315.0,47.0 315.0,92.0\" fill=\"none\" stroke=\"currentColor\"/>\n",
       "    <text dy=\"1.25em\" style=\"font-size: 0.8em; letter-spacing: 1px\">\n",
       "        <textPath xlink:href=\"#arrow-fa053f8fd4304742bd48e6badc84cc56-0-2\" class=\"displacy-label\" startOffset=\"50%\" side=\"left\" fill=\"currentColor\" text-anchor=\"middle\">dobj</textPath>\n",
       "    </text>\n",
       "    <path class=\"displacy-arrowhead\" d=\"M315.0,94.0 L323.0,82.0 307.0,82.0\" fill=\"currentColor\"/>\n",
       "</g>\n",
       "\n",
       "<g class=\"displacy-arrow\">\n",
       "    <path class=\"displacy-arc\" id=\"arrow-fa053f8fd4304742bd48e6badc84cc56-0-3\" stroke-width=\"2px\" d=\"M250,92.0 C250,2.0 410.0,2.0 410.0,92.0\" fill=\"none\" stroke=\"currentColor\"/>\n",
       "    <text dy=\"1.25em\" style=\"font-size: 0.8em; letter-spacing: 1px\">\n",
       "        <textPath xlink:href=\"#arrow-fa053f8fd4304742bd48e6badc84cc56-0-3\" class=\"displacy-label\" startOffset=\"50%\" side=\"left\" fill=\"currentColor\" text-anchor=\"middle\">prep</textPath>\n",
       "    </text>\n",
       "    <path class=\"displacy-arrowhead\" d=\"M410.0,94.0 L418.0,82.0 402.0,82.0\" fill=\"currentColor\"/>\n",
       "</g>\n",
       "\n",
       "<g class=\"displacy-arrow\">\n",
       "    <path class=\"displacy-arc\" id=\"arrow-fa053f8fd4304742bd48e6badc84cc56-0-4\" stroke-width=\"2px\" d=\"M430,92.0 C430,47.0 495.0,47.0 495.0,92.0\" fill=\"none\" stroke=\"currentColor\"/>\n",
       "    <text dy=\"1.25em\" style=\"font-size: 0.8em; letter-spacing: 1px\">\n",
       "        <textPath xlink:href=\"#arrow-fa053f8fd4304742bd48e6badc84cc56-0-4\" class=\"displacy-label\" startOffset=\"50%\" side=\"left\" fill=\"currentColor\" text-anchor=\"middle\">pobj</textPath>\n",
       "    </text>\n",
       "    <path class=\"displacy-arrowhead\" d=\"M495.0,94.0 L503.0,82.0 487.0,82.0\" fill=\"currentColor\"/>\n",
       "</g>\n",
       "</svg>"
      ],
      "text/plain": [
       "<IPython.core.display.HTML object>"
      ]
     },
     "metadata": {},
     "output_type": "display_data"
    }
   ],
   "source": [
    "\"\"\"\n",
    "learning spacy\n",
    "\"\"\"\n",
    "import spacy\n",
    "nlp = spacy.load('en')\n",
    "text = \"Mary, I love you in 1988. \"\n",
    "print([str(token) for token in nlp(text.lower())])\n",
    "doc = nlp(text.lower())\n",
    "for token in doc:\n",
    "    print(\"{0}\\t\\t{1}\\t{2}\\t{3}\\t{4}\\t{5}\\t{6}\\t{7}\".format(\n",
    "        token.text,\n",
    "        token.idx,\n",
    "        token.lemma_,\n",
    "        token.is_punct,\n",
    "        token.is_space,\n",
    "        token.shape_,\n",
    "        token.pos_,\n",
    "        token.tag_\n",
    "    ))\n",
    "for ent in doc.ents:\n",
    "    print(ent.text, ent.label_)  ##实体词汇识别\n",
    "from spacy import displacy\n",
    "displacy.render(doc, style='ent', jupyter=True)#标出实体词汇\n",
    "\n",
    "for sent in doc.sents:\n",
    "    print(sent)   #拆解段为语句  \n",
    "\"\"\"\n",
    "\n",
    "注意这里，doc.sents并不是个列表类型，而是一个生成器 generator\n",
    "所以，假设我们需要从中筛选出某一句话，需要先将其转化为列表。\n",
    "\"\"\"\n",
    "list(doc.sents)\n",
    "\n",
    "\"\"\"\n",
    "依赖关系分析\n",
    "\"\"\"\n",
    "for token in doc:\n",
    "    print(\"{0}({1}) <--{2}-- {3}({4})\".format(\n",
    "        token.text, token.tag_, token.dep_, token.head.text, token.head.tag_))\n",
    "    \n",
    "\n",
    "displacy.render(doc, style='dep', jupyter=True, options={'distance': 90})#依赖关系可视化"
   ]
  },
  {
   "cell_type": "markdown",
   "metadata": {},
   "source": [
    "1. 词性分析\n",
    "除了词例内容本身，Spacy还把每个词例的一些属性信息，进行了处理。\n",
    "下面，我们只对前10个词例（token），输出以下内容：\n",
    "\n",
    "文本\n",
    "索引值（即在原文中的定位）\n",
    "词元(lemma)\n",
    "是否为标点符号\n",
    "是否为空格\n",
    "形状\n",
    "词性\n",
    "标记\n"
   ]
  },
  {
   "cell_type": "code",
   "execution_count": 4,
   "metadata": {},
   "outputs": [
    {
     "name": "stdout",
     "output_type": "stream",
     "text": [
      "0.8016855\n"
     ]
    }
   ],
   "source": [
    "\"\"\"\n",
    "learning  打印“dog”这个单词对应的向量取值。可以看到，每个单词，用总长度为300的浮点数组成向量来表示。\n",
    "\"\"\"\n",
    "import spacy\n",
    "nlp = spacy.load('en_core_web_lg')\n",
    "dog = nlp.vocab['dog']\n",
    "cat = nlp.vocab[\"cat\"]\n",
    "print(dog.similarity(cat))"
   ]
  },
  {
   "cell_type": "code",
   "execution_count": 6,
   "metadata": {},
   "outputs": [
    {
     "name": "stdout",
     "output_type": "stream",
     "text": [
      "['snow', 'white', 'and', 'the', 'seven', 'degrees', '#makeamoviecold', '@midnight', ':-)']\n"
     ]
    }
   ],
   "source": [
    "\"\"\"\n",
    "learning nltk\n",
    "\"\"\"\n",
    "\n",
    "from nltk.tokenize import TweetTokenizer\n",
    "tweet=u\"Snow White and the Seven Degrees #MakeAMovieCold@midnight:-)\"\n",
    "tokenizer = TweetTokenizer()\n",
    "print(tokenizer.tokenize(tweet.lower()))"
   ]
  },
  {
   "cell_type": "code",
   "execution_count": 6,
   "metadata": {},
   "outputs": [
    {
     "name": "stdout",
     "output_type": "stream",
     "text": [
      "[['mary', ',', 'i'], [',', 'i', 'love'], ['i', 'love', 'you'], ['love', 'you', 'in'], ['you', 'in', '1988'], ['in', '1988', '.']]\n"
     ]
    }
   ],
   "source": [
    "\"\"\"\n",
    "n-gram\n",
    "\"\"\"\n",
    "\n",
    "def n_grams(doc, n):\n",
    "    return [doc[i : i+n] for i in range(len(doc) - n + 1)]\n",
    "cleaned = ['mary', ',', 'i', 'love', 'you', 'in', '1988', '.']\n",
    "print(n_grams(cleaned, 3))"
   ]
  },
  {
   "cell_type": "code",
   "execution_count": 17,
   "metadata": {},
   "outputs": [
    {
     "name": "stdout",
     "output_type": "stream",
     "text": [
      "he --> -PRON-\n",
      "was --> be\n",
      "running --> run\n",
      "late --> late\n",
      "--------------------------------\n",
      "Mary --> PROPN\n",
      "slapped --> VERB\n",
      "the --> DET\n",
      "green --> ADJ\n",
      "witch --> NOUN\n",
      ". --> PUNCT\n",
      "---------------------------------\n",
      "Mary --> NP\n",
      "the green witch --> NP\n"
     ]
    }
   ],
   "source": [
    "\"\"\"\n",
    "lemma 寻找词根\n",
    "\"\"\"\n",
    "import spacy\n",
    "nlp = spacy.load('en')\n",
    "doc = nlp(\"he was running late\")\n",
    "for token in doc:\n",
    "    print('{} --> {}'.format(token, token.lemma_))\n",
    "\"\"\"\n",
    "pos 单词标记\n",
    "\"\"\"\n",
    "doc = nlp(\"Mary slapped the green witch.\")\n",
    "print('--------------------------------')\n",
    "for token in doc:\n",
    "    print('{} --> {}'.format(token, token.pos_))\n",
    "\n",
    "\"\"\"\n",
    "chuking and named entity recognition\n",
    "\"\"\"\n",
    "doc  = nlp(\"Mary slapped the green witch.\")\n",
    "print('---------------------------------')\n",
    "for chunk in doc.noun_chunks:\n",
    "    print('{} --> {}'.format(chunk, chunk.label_))  #浅解析"
   ]
  },
  {
   "cell_type": "code",
   "execution_count": 8,
   "metadata": {},
   "outputs": [],
   "source": [
    "\"\"\"\n",
    "implement a perceptron\n",
    "\"\"\"\n",
    "import torch\n",
    "import torch.nn as nn\n",
    "class Perceptron(nn.Module):\n",
    "    \"\"\"\n",
    "    A perceptron is one linear layer\n",
    "    \"\"\"\n",
    "    def __init__(self, input_dim):\n",
    "        \"\"\"\n",
    "        input_dim: size of features\n",
    "        \"\"\"\n",
    "        super(Perceptron, self).__init__()\n",
    "        self.fc1 = nn.Linear(input_dim, 1) # input dimension, output dimension\n",
    "    def forward(self, x_in):\n",
    "        \"\"\"\n",
    "        The forward pass of the perceptron\n",
    "        \"\"\"\n",
    "        return torch.sigmoid(self.fc1(x_in)).squeeze() #why squeeze? 1/(1+e^-x)"
   ]
  },
  {
   "cell_type": "code",
   "execution_count": 14,
   "metadata": {},
   "outputs": [
    {
     "data": {
      "image/png": "[encoded data removed]",
      "text/plain": [
       "<Figure size 432x288 with 3 Axes>"
      ]
     },
     "metadata": {
      "needs_background": "light"
     },
     "output_type": "display_data"
    }
   ],
   "source": [
    "import torch\n",
    "import matplotlib.pyplot as plt\n",
    "x = torch.arange(-5., 5., 0.1)\n",
    "y1 = torch.sigmoid(x)\n",
    "y2 = torch.tanh(x)#(e^-x - e^-x)/(e^-x + e^-x)\n",
    "y3 = torch.relu(x)\n",
    "plt.subplot(3,1,1)\n",
    "plt.title('sigmoid')\n",
    "plt.plot(x.numpy(), y1.numpy())\n",
    "\n",
    "plt.subplot(3,1,2)\n",
    "plt.title('tahn')\n",
    "plt.plot(x.numpy(), y2.numpy())\n",
    "\n",
    "plt.subplot(3,1,3)\n",
    "plt.title('tahn')\n",
    "plt.plot(x.numpy(), y3.numpy())\n",
    "plt.show()"
   ]
  },
  {
   "cell_type": "code",
   "execution_count": 16,
   "metadata": {},
   "outputs": [
    {
     "name": "stdout",
     "output_type": "stream",
     "text": [
      "Type:torch.FloatTensor\n",
      "Shape/size: torch.Size([1, 3])\n",
      "Values: \n",
      "tensor([[-0.3335,  0.5046,  1.4387]])\n",
      "Type:torch.FloatTensor\n",
      "Shape/size: torch.Size([1, 3])\n",
      "Values: \n",
      "tensor([[0.1087, 0.2514, 0.6398]])\n",
      "tensor([1.])\n"
     ]
    }
   ],
   "source": [
    "\"\"\"\n",
    "softmax \n",
    "\"\"\"\n",
    "import torch.nn as nn\n",
    "import torch\n",
    "softmax = nn.Softmax(dim = 1)\n",
    "x = torch.randn(1,3)\n",
    "y = softmax(x)\n",
    "describe(x)\n",
    "describe(y)\n",
    "print(torch.sum(y, dim = 1))"
   ]
  },
  {
   "cell_type": "code",
   "execution_count": 18,
   "metadata": {},
   "outputs": [
    {
     "name": "stdout",
     "output_type": "stream",
     "text": [
      "tensor(0.1502, grad_fn=<MseLossBackward>)\n"
     ]
    }
   ],
   "source": [
    "\"\"\"\n",
    "loss function\n",
    "\"\"\"\n",
    "\n",
    "import torch\n",
    "import torch.nn as nn\n",
    "\"\"\"\n",
    "mean squared error loss\n",
    "\"\"\"\n",
    "mse_loss = nn.MSELoss()  #平方差损失\n",
    "outputs = torch.rand(3,5, requires_grad = True) #追踪下滑\n",
    "targets = torch.rand(3,5)\n",
    "loss = mse_loss(outputs,targets)\n",
    "print(loss)\n",
    "\n"
   ]
  },
  {
   "cell_type": "code",
   "execution_count": 21,
   "metadata": {},
   "outputs": [
    {
     "name": "stdout",
     "output_type": "stream",
     "text": [
      "tensor(1.9314, grad_fn=<NllLossBackward>)\n"
     ]
    }
   ],
   "source": [
    "\"\"\"\n",
    "cross-entropy loss 交叉熵\n",
    "\"\"\"\n",
    "\n",
    "ce_loss = nn.CrossEntropyLoss()\n",
    "outputs = torch.rand(3,5, requires_grad = True) #追踪下滑\n",
    "targets = torch.tensor([1,0,3], dtype = torch.int64)\n",
    "loss = ce_loss(outputs, targets)\n",
    "\n",
    "print(loss)"
   ]
  },
  {
   "cell_type": "code",
   "execution_count": null,
   "metadata": {},
   "outputs": [],
   "source": []
  }
 ],
 "metadata": {
  "kernelspec": {
   "display_name": "Python 3",
   "language": "python",
   "name": "python3"
  },
  "language_info": {
   "codemirror_mode": {
    "name": "ipython",
    "version": 3
   },
   "file_extension": ".py",
   "mimetype": "text/x-python",
   "name": "python",
   "nbconvert_exporter": "python",
   "pygments_lexer": "ipython3",
   "version": "3.7.4"
  }
 },
 "nbformat": 4,
 "nbformat_minor": 2
}
